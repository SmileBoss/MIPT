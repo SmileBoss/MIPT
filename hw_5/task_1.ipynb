{
 "cells": [
  {
   "cell_type": "code",
   "execution_count": 1,
   "id": "initial_id",
   "metadata": {
    "collapsed": true,
    "ExecuteTime": {
     "end_time": "2023-11-03T16:00:58.190878Z",
     "start_time": "2023-11-03T16:00:58.164019Z"
    }
   },
   "outputs": [],
   "source": [
    "import re"
   ]
  },
  {
   "cell_type": "code",
   "execution_count": 2,
   "outputs": [],
   "source": [
    "def validate_car_id(car_id):\n",
    "    pattern = r'^[АВЕКМНОРСТУХABEKMHOPCTYX]\\d{3}(?<!000)[АВЕКМНОРСТУХABEKMHOPCTYX]{2}\\d{2,3}$'\n",
    "\n",
    "    if re.match(pattern, car_id):\n",
    "        if len(car_id) < 9:\n",
    "            number = car_id[:-2]\n",
    "            region = car_id[-2:]\n",
    "        else:\n",
    "            number = car_id[:-3]\n",
    "            region = car_id[-3:]\n",
    "        return f\"Номер {number} валиден. Регион: {region}.\"\n",
    "    else:\n",
    "        return \"Номер не валиден.\""
   ],
   "metadata": {
    "collapsed": false,
    "ExecuteTime": {
     "end_time": "2023-11-03T16:01:01.209781Z",
     "start_time": "2023-11-03T16:01:01.193857Z"
    }
   },
   "id": "eb0fadc7c322348c"
  },
  {
   "cell_type": "code",
   "execution_count": 4,
   "outputs": [
    {
     "name": "stdout",
     "output_type": "stream",
     "text": [
      "Номер Т116ТТ валиден. Регион: 116.\n",
      "Номер не валиден.\n"
     ]
    }
   ],
   "source": [
    "car_id_true = 'Т116ТТ116'\n",
    "car_id_false = 'AБ22ВВ193'\n",
    "\n",
    "print(validate_car_id(car_id_true))\n",
    "print(validate_car_id(car_id_false))"
   ],
   "metadata": {
    "collapsed": false,
    "ExecuteTime": {
     "end_time": "2023-11-05T09:56:07.200942Z",
     "start_time": "2023-11-05T09:56:07.180291Z"
    }
   },
   "id": "6bb2f98886415787"
  }
 ],
 "metadata": {
  "kernelspec": {
   "display_name": "Python 3",
   "language": "python",
   "name": "python3"
  },
  "language_info": {
   "codemirror_mode": {
    "name": "ipython",
    "version": 2
   },
   "file_extension": ".py",
   "mimetype": "text/x-python",
   "name": "python",
   "nbconvert_exporter": "python",
   "pygments_lexer": "ipython2",
   "version": "2.7.6"
  }
 },
 "nbformat": 4,
 "nbformat_minor": 5
}
