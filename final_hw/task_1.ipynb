{
 "cells": [
  {
   "cell_type": "code",
   "execution_count": 1,
   "id": "initial_id",
   "metadata": {
    "collapsed": true,
    "ExecuteTime": {
     "end_time": "2023-12-10T15:52:06.831352Z",
     "start_time": "2023-12-10T15:52:06.774909Z"
    }
   },
   "outputs": [],
   "source": [
    "import pandas as pd"
   ]
  },
  {
   "cell_type": "code",
   "execution_count": 2,
   "outputs": [],
   "source": [
    "df = pd.read_csv('movies_stats.csv')"
   ],
   "metadata": {
    "collapsed": false,
    "ExecuteTime": {
     "end_time": "2023-12-10T15:52:24.677831Z",
     "start_time": "2023-12-10T15:52:24.539573Z"
    }
   },
   "id": "2cf8dd9087993440"
  },
  {
   "cell_type": "code",
   "execution_count": 3,
   "outputs": [],
   "source": [
    "years = list(range(1950, 2011))\n",
    "\n",
    "def production_year(title):\n",
    "    for year in years:\n",
    "        if str(year) in title:\n",
    "            return year\n",
    "    return 1900"
   ],
   "metadata": {
    "collapsed": false,
    "ExecuteTime": {
     "end_time": "2023-12-10T15:52:26.696251Z",
     "start_time": "2023-12-10T15:52:26.678759Z"
    }
   },
   "id": "88a9194083959746"
  },
  {
   "cell_type": "code",
   "execution_count": 4,
   "outputs": [],
   "source": [
    "df['year'] = df['title'].apply(production_year)"
   ],
   "metadata": {
    "collapsed": false,
    "ExecuteTime": {
     "end_time": "2023-12-10T15:52:29.073576Z",
     "start_time": "2023-12-10T15:52:27.816977Z"
    }
   },
   "id": "3dad16e9e0537a83"
  },
  {
   "cell_type": "code",
   "execution_count": 5,
   "outputs": [
    {
     "name": "stdout",
     "output_type": "stream",
     "text": [
      "year\n",
      "1957    4.014241\n",
      "1972    4.011136\n",
      "1952    4.000000\n",
      "1954    3.994220\n",
      "1951    3.983539\n",
      "          ...   \n",
      "2005    3.448434\n",
      "2003    3.444777\n",
      "1996    3.426600\n",
      "1997    3.415764\n",
      "2000    3.356104\n",
      "Name: rating, Length: 62, dtype: float64\n"
     ]
    }
   ],
   "source": [
    "average_ratings = df.groupby('year')['rating'].mean().sort_values(ascending=False)\n",
    "\n",
    "print(average_ratings)"
   ],
   "metadata": {
    "collapsed": false,
    "ExecuteTime": {
     "end_time": "2023-12-10T15:52:30.549389Z",
     "start_time": "2023-12-10T15:52:30.510463Z"
    }
   },
   "id": "8a7a793a19a8ed1d"
  }
 ],
 "metadata": {
  "kernelspec": {
   "display_name": "Python 3",
   "language": "python",
   "name": "python3"
  },
  "language_info": {
   "codemirror_mode": {
    "name": "ipython",
    "version": 2
   },
   "file_extension": ".py",
   "mimetype": "text/x-python",
   "name": "python",
   "nbconvert_exporter": "python",
   "pygments_lexer": "ipython2",
   "version": "2.7.6"
  }
 },
 "nbformat": 4,
 "nbformat_minor": 5
}
