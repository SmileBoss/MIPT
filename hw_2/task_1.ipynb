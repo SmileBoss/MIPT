{
 "cells": [
  {
   "cell_type": "code",
   "execution_count": 14,
   "id": "initial_id",
   "metadata": {
    "collapsed": true,
    "ExecuteTime": {
     "end_time": "2023-10-08T16:24:57.594496Z",
     "start_time": "2023-10-08T16:24:57.589647Z"
    }
   },
   "outputs": [],
   "source": [
    "from datetime import datetime"
   ]
  },
  {
   "cell_type": "code",
   "execution_count": 15,
   "outputs": [],
   "source": [
    "newspapers = {\n",
    "    \"The Moscow Times\": \"Wednesday, October 2, 2002\",\n",
    "    \"The Guardian\": \"Friday, 11.10.13\",\n",
    "    \"Daily News\": \"Thursday, 18 August 1977\"\n",
    "}"
   ],
   "metadata": {
    "collapsed": false,
    "ExecuteTime": {
     "end_time": "2023-10-08T16:24:59.040296Z",
     "start_time": "2023-10-08T16:24:59.030302Z"
    }
   },
   "id": "622ea6be4fa06945"
  },
  {
   "cell_type": "code",
   "execution_count": 16,
   "outputs": [],
   "source": [
    "def convert_to_date(date_string):\n",
    "    try:\n",
    "        return datetime.strptime(date_string, \"%A, %B %d, %Y\")\n",
    "    except ValueError:\n",
    "        try:\n",
    "            return datetime.strptime(date_string, \"%A, %d.%m.%y\")\n",
    "        except ValueError:\n",
    "            try:\n",
    "                return datetime.strptime(date_string, \"%A, %d %B %Y\")\n",
    "            except ValueError:\n",
    "                print(f\"Date format is not defined: {date_string}\")\n",
    "    except TypeError:\n",
    "        print(f\"Invalid incoming parameter: {type(date_string)}\")"
   ],
   "metadata": {
    "collapsed": false,
    "ExecuteTime": {
     "end_time": "2023-10-08T16:24:59.991135Z",
     "start_time": "2023-10-08T16:24:59.974588Z"
    }
   },
   "id": "2b2074f4aadcb6c1"
  },
  {
   "cell_type": "code",
   "execution_count": 17,
   "outputs": [
    {
     "name": "stdout",
     "output_type": "stream",
     "text": [
      "The Moscow Times: 2002-10-02 00:00:00\n",
      "The Guardian: 2013-10-11 00:00:00\n",
      "Daily News: 1977-08-18 00:00:00\n"
     ]
    }
   ],
   "source": [
    "for newspaper, date_string in newspapers.items():\n",
    "    date = convert_to_date(date_string)\n",
    "    print(f\"{newspaper}: {date}\")"
   ],
   "metadata": {
    "collapsed": false,
    "ExecuteTime": {
     "end_time": "2023-10-08T16:25:01.225864Z",
     "start_time": "2023-10-08T16:25:01.155078Z"
    }
   },
   "id": "f5b77f0eed154e59"
  }
 ],
 "metadata": {
  "kernelspec": {
   "display_name": "Python 3",
   "language": "python",
   "name": "python3"
  },
  "language_info": {
   "codemirror_mode": {
    "name": "ipython",
    "version": 2
   },
   "file_extension": ".py",
   "mimetype": "text/x-python",
   "name": "python",
   "nbconvert_exporter": "python",
   "pygments_lexer": "ipython2",
   "version": "2.7.6"
  }
 },
 "nbformat": 4,
 "nbformat_minor": 5
}
