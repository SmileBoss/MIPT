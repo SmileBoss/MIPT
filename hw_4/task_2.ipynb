{
 "cells": [
  {
   "cell_type": "code",
   "execution_count": 2,
   "id": "initial_id",
   "metadata": {
    "collapsed": true,
    "ExecuteTime": {
     "end_time": "2023-10-28T11:50:58.868390Z",
     "start_time": "2023-10-28T11:50:58.237336Z"
    }
   },
   "outputs": [
    {
     "name": "stdout",
     "output_type": "stream",
     "text": [
      "EUR difference: -0.3872000000000071\n",
      "USD difference: -0.3442000000000007\n"
     ]
    }
   ],
   "source": [
    "from hw_4.model import Rate\n",
    "\n",
    "rate = Rate(diff=True)\n",
    "eur_diff = rate.eur()\n",
    "usd_diff = rate.usd()\n",
    "\n",
    "print('EUR difference:', eur_diff)\n",
    "print('USD difference:', usd_diff)"
   ]
  }
 ],
 "metadata": {
  "kernelspec": {
   "display_name": "Python 3",
   "language": "python",
   "name": "python3"
  },
  "language_info": {
   "codemirror_mode": {
    "name": "ipython",
    "version": 2
   },
   "file_extension": ".py",
   "mimetype": "text/x-python",
   "name": "python",
   "nbconvert_exporter": "python",
   "pygments_lexer": "ipython2",
   "version": "2.7.6"
  }
 },
 "nbformat": 4,
 "nbformat_minor": 5
}
