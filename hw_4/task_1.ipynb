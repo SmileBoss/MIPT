{
 "cells": [
  {
   "cell_type": "code",
   "execution_count": 3,
   "outputs": [
    {
     "name": "stdout",
     "output_type": "stream",
     "text": [
      "max rate: СДР (специальные права заимствования)\n"
     ]
    }
   ],
   "source": [
    "from hw_4.model import Rate\n",
    "\n",
    "rate = Rate(diff=True)\n",
    "max_rate = rate.get_currency_with_max_rate()\n",
    "print('max rate:', max_rate)"
   ],
   "metadata": {
    "collapsed": false,
    "ExecuteTime": {
     "end_time": "2023-10-28T11:51:29.750814Z",
     "start_time": "2023-10-28T11:51:29.431296Z"
    }
   },
   "id": "96e996d92ffda2d0"
  }
 ],
 "metadata": {
  "kernelspec": {
   "display_name": "Python 3",
   "language": "python",
   "name": "python3"
  },
  "language_info": {
   "codemirror_mode": {
    "name": "ipython",
    "version": 2
   },
   "file_extension": ".py",
   "mimetype": "text/x-python",
   "name": "python",
   "nbconvert_exporter": "python",
   "pygments_lexer": "ipython2",
   "version": "2.7.6"
  }
 },
 "nbformat": 4,
 "nbformat_minor": 5
}
