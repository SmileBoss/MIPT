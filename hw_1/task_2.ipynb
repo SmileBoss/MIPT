{
 "cells": [
  {
   "cell_type": "code",
   "execution_count": 1,
   "id": "initial_id",
   "metadata": {
    "collapsed": true,
    "ExecuteTime": {
     "end_time": "2023-10-06T15:07:07.259493Z",
     "start_time": "2023-10-06T15:07:07.254822Z"
    }
   },
   "outputs": [],
   "source": [
    "import csv\n",
    "import json"
   ]
  },
  {
   "cell_type": "code",
   "execution_count": 2,
   "outputs": [],
   "source": [
    "purchases = {}\n",
    "\n",
    "with open(\"purchase_log.txt\", \"r\") as file:\n",
    "    next(file)\n",
    "    for line in file:\n",
    "        data = json.loads(line)\n",
    "        user_id = data[\"user_id\"]\n",
    "        category = data[\"category\"]\n",
    "        purchases[user_id] = category"
   ],
   "metadata": {
    "collapsed": false,
    "ExecuteTime": {
     "end_time": "2023-10-06T15:07:09.496093Z",
     "start_time": "2023-10-06T15:07:09.062557Z"
    }
   },
   "id": "907975eec0080a0c"
  },
  {
   "cell_type": "code",
   "execution_count": 4,
   "outputs": [],
   "source": [
    "with open(\"visit_log.csv\") as visit_file, open(\"funnel.csv\", \"w\") as funnel_file:\n",
    "    reader = csv.DictReader(visit_file)\n",
    "    fieldnames = ['user_id', 'source', 'category']\n",
    "    writer = csv.DictWriter(funnel_file, fieldnames=fieldnames)\n",
    "    writer.writeheader()\n",
    "\n",
    "    for line in reader:\n",
    "        user_id = line['user_id']\n",
    "        if user_id in purchases:\n",
    "            category = purchases[user_id]\n",
    "            writer.writerow({'user_id': user_id, 'source': line['source'], 'category': category})"
   ],
   "metadata": {
    "collapsed": false,
    "ExecuteTime": {
     "end_time": "2023-10-06T15:07:37.476219Z",
     "start_time": "2023-10-06T15:07:36.324862Z"
    }
   },
   "id": "4f07941f934b4056"
  }
 ],
 "metadata": {
  "kernelspec": {
   "display_name": "Python 3",
   "language": "python",
   "name": "python3"
  },
  "language_info": {
   "codemirror_mode": {
    "name": "ipython",
    "version": 2
   },
   "file_extension": ".py",
   "mimetype": "text/x-python",
   "name": "python",
   "nbconvert_exporter": "python",
   "pygments_lexer": "ipython2",
   "version": "2.7.6"
  }
 },
 "nbformat": 4,
 "nbformat_minor": 5
}
