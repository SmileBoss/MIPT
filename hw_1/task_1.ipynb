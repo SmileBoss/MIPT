{
 "cells": [
  {
   "cell_type": "code",
   "execution_count": 1,
   "id": "initial_id",
   "metadata": {
    "collapsed": true,
    "ExecuteTime": {
     "end_time": "2023-10-06T15:06:53.264815Z",
     "start_time": "2023-10-06T15:06:53.239419Z"
    }
   },
   "outputs": [],
   "source": [
    "import json"
   ]
  },
  {
   "cell_type": "code",
   "execution_count": 2,
   "outputs": [],
   "source": [
    "purchases = {}\n",
    "\n",
    "with open(\"purchase_log.txt\", \"r\") as file:\n",
    "    next(file)\n",
    "    for line in file:\n",
    "        data = json.loads(line)\n",
    "        user_id = data[\"user_id\"]\n",
    "        category = data[\"category\"]\n",
    "        purchases[user_id] = category"
   ],
   "metadata": {
    "collapsed": false,
    "ExecuteTime": {
     "end_time": "2023-10-06T15:06:55.467610Z",
     "start_time": "2023-10-06T15:06:54.928854Z"
    }
   },
   "id": "317d89a14d829c5a"
  },
  {
   "cell_type": "code",
   "execution_count": 3,
   "outputs": [
    {
     "name": "stdout",
     "output_type": "stream",
     "text": [
      "1840e0b9d4 'Продукты'\n",
      "4e4f90fcfb 'Электроника'\n"
     ]
    }
   ],
   "source": [
    "count = 0\n",
    "for user_id, category in purchases.items():\n",
    "    print(user_id, '\\'' + category + '\\'')\n",
    "    count += 1\n",
    "    if count == 2:\n",
    "        break\n"
   ],
   "metadata": {
    "collapsed": false,
    "ExecuteTime": {
     "end_time": "2023-10-06T15:06:57.919096Z",
     "start_time": "2023-10-06T15:06:57.809451Z"
    }
   },
   "id": "f6557a74394b7b98"
  }
 ],
 "metadata": {
  "kernelspec": {
   "display_name": "Python 3",
   "language": "python",
   "name": "python3"
  },
  "language_info": {
   "codemirror_mode": {
    "name": "ipython",
    "version": 2
   },
   "file_extension": ".py",
   "mimetype": "text/x-python",
   "name": "python",
   "nbconvert_exporter": "python",
   "pygments_lexer": "ipython2",
   "version": "2.7.6"
  }
 },
 "nbformat": 4,
 "nbformat_minor": 5
}
