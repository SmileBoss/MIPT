{
 "cells": [
  {
   "cell_type": "code",
   "execution_count": 1,
   "outputs": [],
   "source": [
    "import pandas as pd"
   ],
   "metadata": {
    "collapsed": false,
    "ExecuteTime": {
     "end_time": "2023-11-12T13:16:58.910825Z",
     "start_time": "2023-11-12T13:16:58.073755Z"
    }
   },
   "id": "ea225270c96d62e8"
  },
  {
   "cell_type": "code",
   "execution_count": 2,
   "outputs": [],
   "source": [
    "data = pd.read_csv('keywords.csv')"
   ],
   "metadata": {
    "collapsed": false,
    "ExecuteTime": {
     "end_time": "2023-11-12T13:17:02.058741Z",
     "start_time": "2023-11-12T13:17:01.831546Z"
    }
   },
   "id": "5d1127d05a75ba6a"
  },
  {
   "cell_type": "code",
   "execution_count": 3,
   "outputs": [],
   "source": [
    "geo_data = {\n",
    "    'Центр': ['москва', 'тула', 'ярославль'],\n",
    "    'Северо-Запад': ['петербург', 'псков', 'мурманск'],\n",
    "    'Дальний Восток': ['владивосток', 'сахалин', 'хабаровск']\n",
    "}"
   ],
   "metadata": {
    "collapsed": false,
    "ExecuteTime": {
     "end_time": "2023-11-12T13:17:02.949552Z",
     "start_time": "2023-11-12T13:17:02.939985Z"
    }
   },
   "id": "b0fa73a054ca1f43"
  },
  {
   "cell_type": "code",
   "execution_count": 4,
   "outputs": [],
   "source": [
    "def geo_classificator(keyword):\n",
    "    for region, cities in geo_data.items():\n",
    "        for city in cities:\n",
    "            if city in keyword:\n",
    "                return region\n",
    "    return 'undefined'\n",
    "\n",
    "data['region'] = data['keyword'].apply(geo_classificator)"
   ],
   "metadata": {
    "collapsed": false,
    "ExecuteTime": {
     "end_time": "2023-11-12T13:17:08.591604Z",
     "start_time": "2023-11-12T13:17:08.396240Z"
    }
   },
   "id": "ebecd27b4011e1c4"
  },
  {
   "cell_type": "code",
   "execution_count": 13,
   "outputs": [
    {
     "data": {
      "text/plain": "                        keyword   shows          region\n127                авито москва  979292           Центр\n370    авито ру санкт петербург  425134    Северо-Запад\n564   погода в санкт петербурге  292489    Северо-Запад\n849             авито ярославль  209581           Центр\n1063        фарпост владивосток  176951  Дальний Восток",
      "text/html": "<div>\n<style scoped>\n    .dataframe tbody tr th:only-of-type {\n        vertical-align: middle;\n    }\n\n    .dataframe tbody tr th {\n        vertical-align: top;\n    }\n\n    .dataframe thead th {\n        text-align: right;\n    }\n</style>\n<table border=\"1\" class=\"dataframe\">\n  <thead>\n    <tr style=\"text-align: right;\">\n      <th></th>\n      <th>keyword</th>\n      <th>shows</th>\n      <th>region</th>\n    </tr>\n  </thead>\n  <tbody>\n    <tr>\n      <th>127</th>\n      <td>авито москва</td>\n      <td>979292</td>\n      <td>Центр</td>\n    </tr>\n    <tr>\n      <th>370</th>\n      <td>авито ру санкт петербург</td>\n      <td>425134</td>\n      <td>Северо-Запад</td>\n    </tr>\n    <tr>\n      <th>564</th>\n      <td>погода в санкт петербурге</td>\n      <td>292489</td>\n      <td>Северо-Запад</td>\n    </tr>\n    <tr>\n      <th>849</th>\n      <td>авито ярославль</td>\n      <td>209581</td>\n      <td>Центр</td>\n    </tr>\n    <tr>\n      <th>1063</th>\n      <td>фарпост владивосток</td>\n      <td>176951</td>\n      <td>Дальний Восток</td>\n    </tr>\n  </tbody>\n</table>\n</div>"
     },
     "execution_count": 13,
     "metadata": {},
     "output_type": "execute_result"
    }
   ],
   "source": [
    "data.loc[data['region'] != 'undefined'].head(5)"
   ],
   "metadata": {
    "collapsed": false,
    "ExecuteTime": {
     "end_time": "2023-11-12T13:24:00.470870Z",
     "start_time": "2023-11-12T13:24:00.404226Z"
    }
   },
   "id": "1c5b7b1555aab307"
  },
  {
   "cell_type": "code",
   "execution_count": 12,
   "outputs": [
    {
     "data": {
      "text/plain": "         keyword     shows     region\n0             вк  64292779  undefined\n1  одноклассники  63810309  undefined\n2          порно  41747114  undefined\n3           ютуб  39995567  undefined\n4      вконтакте  21014195  undefined",
      "text/html": "<div>\n<style scoped>\n    .dataframe tbody tr th:only-of-type {\n        vertical-align: middle;\n    }\n\n    .dataframe tbody tr th {\n        vertical-align: top;\n    }\n\n    .dataframe thead th {\n        text-align: right;\n    }\n</style>\n<table border=\"1\" class=\"dataframe\">\n  <thead>\n    <tr style=\"text-align: right;\">\n      <th></th>\n      <th>keyword</th>\n      <th>shows</th>\n      <th>region</th>\n    </tr>\n  </thead>\n  <tbody>\n    <tr>\n      <th>0</th>\n      <td>вк</td>\n      <td>64292779</td>\n      <td>undefined</td>\n    </tr>\n    <tr>\n      <th>1</th>\n      <td>одноклассники</td>\n      <td>63810309</td>\n      <td>undefined</td>\n    </tr>\n    <tr>\n      <th>2</th>\n      <td>порно</td>\n      <td>41747114</td>\n      <td>undefined</td>\n    </tr>\n    <tr>\n      <th>3</th>\n      <td>ютуб</td>\n      <td>39995567</td>\n      <td>undefined</td>\n    </tr>\n    <tr>\n      <th>4</th>\n      <td>вконтакте</td>\n      <td>21014195</td>\n      <td>undefined</td>\n    </tr>\n  </tbody>\n</table>\n</div>"
     },
     "execution_count": 12,
     "metadata": {},
     "output_type": "execute_result"
    }
   ],
   "source": [
    "data.head()"
   ],
   "metadata": {
    "collapsed": false,
    "ExecuteTime": {
     "end_time": "2023-11-12T13:20:50.713216Z",
     "start_time": "2023-11-12T13:20:50.694863Z"
    }
   },
   "id": "971deb1d052965f9"
  }
 ],
 "metadata": {
  "kernelspec": {
   "display_name": "Python 3",
   "language": "python",
   "name": "python3"
  },
  "language_info": {
   "codemirror_mode": {
    "name": "ipython",
    "version": 2
   },
   "file_extension": ".py",
   "mimetype": "text/x-python",
   "name": "python",
   "nbconvert_exporter": "python",
   "pygments_lexer": "ipython2",
   "version": "2.7.6"
  }
 },
 "nbformat": 4,
 "nbformat_minor": 5
}
