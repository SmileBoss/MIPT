{
 "cells": [
  {
   "cell_type": "code",
   "execution_count": 1,
   "id": "initial_id",
   "metadata": {
    "collapsed": true,
    "ExecuteTime": {
     "end_time": "2023-11-10T11:26:35.129518Z",
     "start_time": "2023-11-10T11:26:34.447678Z"
    }
   },
   "outputs": [],
   "source": [
    "import pandas as pd"
   ]
  },
  {
   "cell_type": "code",
   "execution_count": 2,
   "outputs": [],
   "source": [
    "power = pd.read_csv('power.csv')"
   ],
   "metadata": {
    "collapsed": false,
    "ExecuteTime": {
     "end_time": "2023-11-10T11:26:37.578582Z",
     "start_time": "2023-11-10T11:26:37.053019Z"
    }
   },
   "id": "6a53ec684b95d73d"
  },
  {
   "cell_type": "code",
   "execution_count": 3,
   "outputs": [],
   "source": [
    "filtered_power = power[(power['country'].isin(['Latvia', 'Lithuania', 'Estonia'])) & \n",
    "                          (power['category'].isin([4, 12, 21])) & \n",
    "                          (power['year'].between(2005, 2010)) & \n",
    "                          (power['quantity'] >= 0)]\n",
    "\n",
    "total_consumption = filtered_power['quantity'].sum()"
   ],
   "metadata": {
    "collapsed": false,
    "ExecuteTime": {
     "end_time": "2023-11-10T11:26:38.425707Z",
     "start_time": "2023-11-10T11:26:38.371485Z"
    }
   },
   "id": "aaca17a509b06053"
  },
  {
   "cell_type": "code",
   "execution_count": 4,
   "outputs": [
    {
     "name": "stdout",
     "output_type": "stream",
     "text": [
      "Суммарное потребление стран Прибалтики (Латвия, Литва и Эстония) категорий 4, 12 и 21 за период с 2005 по 2010 год:  240580.0\n"
     ]
    }
   ],
   "source": [
    "print(\"Суммарное потребление стран Прибалтики (Латвия, Литва и Эстония) категорий 4, 12 и 21 \"\n",
    "      \"за период с 2005 по 2010 год: \", total_consumption)"
   ],
   "metadata": {
    "collapsed": false,
    "ExecuteTime": {
     "end_time": "2023-11-10T11:26:39.377850Z",
     "start_time": "2023-11-10T11:26:39.350070Z"
    }
   },
   "id": "305f9928e5ffe26c"
  }
 ],
 "metadata": {
  "kernelspec": {
   "display_name": "Python 3",
   "language": "python",
   "name": "python3"
  },
  "language_info": {
   "codemirror_mode": {
    "name": "ipython",
    "version": 2
   },
   "file_extension": ".py",
   "mimetype": "text/x-python",
   "name": "python",
   "nbconvert_exporter": "python",
   "pygments_lexer": "ipython2",
   "version": "2.7.6"
  }
 },
 "nbformat": 4,
 "nbformat_minor": 5
}
