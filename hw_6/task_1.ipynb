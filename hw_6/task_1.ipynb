{
 "cells": [
  {
   "cell_type": "code",
   "execution_count": 1,
   "id": "initial_id",
   "metadata": {
    "collapsed": true,
    "ExecuteTime": {
     "end_time": "2023-11-10T11:16:02.094319Z",
     "start_time": "2023-11-10T11:15:59.861220Z"
    }
   },
   "outputs": [],
   "source": [
    "import pandas as pd"
   ]
  },
  {
   "cell_type": "code",
   "execution_count": 2,
   "outputs": [],
   "source": [
    "movies = pd.read_csv('movies.csv')\n",
    "ratings = pd.read_csv('ratings.csv')"
   ],
   "metadata": {
    "collapsed": false,
    "ExecuteTime": {
     "end_time": "2023-11-10T11:16:05.219459Z",
     "start_time": "2023-11-10T11:16:05.133178Z"
    }
   },
   "id": "e36295a9b533e355"
  },
  {
   "cell_type": "code",
   "execution_count": 3,
   "outputs": [],
   "source": [
    "data = pd.merge(movies, ratings, on='movieId')\n",
    "\n",
    "data_filtered = data[data['rating'] == 5.0]\n",
    "\n",
    "film_ratings_count = data_filtered['title'].value_counts()\n",
    "\n",
    "most_rated_film = film_ratings_count.idxmax()"
   ],
   "metadata": {
    "collapsed": false,
    "ExecuteTime": {
     "end_time": "2023-11-10T11:16:07.156655Z",
     "start_time": "2023-11-10T11:16:07.115147Z"
    }
   },
   "id": "4cbcfe83c58d9528"
  },
  {
   "cell_type": "code",
   "execution_count": 4,
   "outputs": [
    {
     "name": "stdout",
     "output_type": "stream",
     "text": [
      "Фильм с наибольшим количеством оценок 5.0: Shawshank Redemption, The (1994)\n"
     ]
    }
   ],
   "source": [
    "print(\"Фильм с наибольшим количеством оценок 5.0:\", most_rated_film)"
   ],
   "metadata": {
    "collapsed": false,
    "ExecuteTime": {
     "end_time": "2023-11-10T11:16:08.626556Z",
     "start_time": "2023-11-10T11:16:08.599395Z"
    }
   },
   "id": "80f4be4b8520ef0e"
  }
 ],
 "metadata": {
  "kernelspec": {
   "display_name": "Python 3",
   "language": "python",
   "name": "python3"
  },
  "language_info": {
   "codemirror_mode": {
    "name": "ipython",
    "version": 2
   },
   "file_extension": ".py",
   "mimetype": "text/x-python",
   "name": "python",
   "nbconvert_exporter": "python",
   "pygments_lexer": "ipython2",
   "version": "2.7.6"
  }
 },
 "nbformat": 4,
 "nbformat_minor": 5
}
