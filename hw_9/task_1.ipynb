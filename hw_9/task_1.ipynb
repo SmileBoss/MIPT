{
 "cells": [
  {
   "cell_type": "code",
   "execution_count": 1,
   "outputs": [],
   "source": [
    "import game_lottery_machine as game"
   ],
   "metadata": {
    "collapsed": false,
    "ExecuteTime": {
     "end_time": "2023-11-19T13:37:23.205119Z",
     "start_time": "2023-11-19T13:37:23.167764Z"
    }
   },
   "id": "63b0699f6e24278b"
  },
  {
   "cell_type": "code",
   "execution_count": 7,
   "outputs": [
    {
     "name": "stdout",
     "output_type": "stream",
     "text": [
      "Игра не выгодна игроку.\n",
      "Средний выигрыш или проигрыш за одну игру: -0.18555 рубля.\n"
     ]
    }
   ],
   "source": [
    "average_money = game.play_game()\n",
    "\n",
    "if average_money > 0:\n",
    "    print(\"Игра выгодна игроку.\")\n",
    "else:\n",
    "    print(\"Игра не выгодна игроку.\")\n",
    "\n",
    "print(f\"Средний выигрыш или проигрыш за одну игру: {average_money} рубля.\")"
   ],
   "metadata": {
    "collapsed": false,
    "ExecuteTime": {
     "end_time": "2023-11-19T21:16:11.533561Z",
     "start_time": "2023-11-19T21:16:11.351234Z"
    }
   },
   "id": "eeb3054057b680c1"
  }
 ],
 "metadata": {
  "kernelspec": {
   "display_name": "Python 3",
   "language": "python",
   "name": "python3"
  },
  "language_info": {
   "codemirror_mode": {
    "name": "ipython",
    "version": 2
   },
   "file_extension": ".py",
   "mimetype": "text/x-python",
   "name": "python",
   "nbconvert_exporter": "python",
   "pygments_lexer": "ipython2",
   "version": "2.7.6"
  }
 },
 "nbformat": 4,
 "nbformat_minor": 5
}
