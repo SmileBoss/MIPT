{
 "cells": [
  {
   "cell_type": "code",
   "execution_count": 4,
   "outputs": [],
   "source": [
    "winning_probabilities = {\n",
    "    777: 1/1000,\n",
    "    999: 1/1000,\n",
    "    555: 1/1000,\n",
    "    333: 1/1000,\n",
    "    111: 1/1000,\n",
    "    77: 9/1000,\n",
    "    7: 90/1000,\n",
    "    0: 10/1000\n",
    "}\n",
    "\n",
    "average_money_theoretical = 0\n",
    "\n",
    "for number, probability in winning_probabilities.items():\n",
    "    average_money_theoretical += probability * (\n",
    "        200 if number == 777 else\n",
    "        100 if number == 999 else\n",
    "        50 if number == 555 else\n",
    "        15 if number == 333 else\n",
    "        10 if number == 111 else\n",
    "        5 if number % 100 == 77 else\n",
    "        3 if number % 10 == 7 else\n",
    "        2 if number % 100 == 0 else\n",
    "        1 if number % 10 == 0 else 0\n",
    "    )"
   ],
   "metadata": {
    "collapsed": false,
    "ExecuteTime": {
     "end_time": "2023-11-19T21:21:11.151900Z",
     "start_time": "2023-11-19T21:21:11.146727Z"
    }
   },
   "id": "eac04490790ad157"
  },
  {
   "cell_type": "code",
   "execution_count": 5,
   "outputs": [
    {
     "name": "stdout",
     "output_type": "stream",
     "text": [
      "Средний выигрыш или проигрыш в теории: 0.7100000000000001 рубля.\n"
     ]
    }
   ],
   "source": [
    "print(f\"Средний выигрыш или проигрыш в теории: {average_money_theoretical} рубля.\")"
   ],
   "metadata": {
    "collapsed": false,
    "ExecuteTime": {
     "end_time": "2023-11-19T21:21:12.281528Z",
     "start_time": "2023-11-19T21:21:12.271733Z"
    }
   },
   "id": "92b78d68234b0a4d"
  }
 ],
 "metadata": {
  "kernelspec": {
   "display_name": "Python 3",
   "language": "python",
   "name": "python3"
  },
  "language_info": {
   "codemirror_mode": {
    "name": "ipython",
    "version": 2
   },
   "file_extension": ".py",
   "mimetype": "text/x-python",
   "name": "python",
   "nbconvert_exporter": "python",
   "pygments_lexer": "ipython2",
   "version": "2.7.6"
  }
 },
 "nbformat": 4,
 "nbformat_minor": 5
}
